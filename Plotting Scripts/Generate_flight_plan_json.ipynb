{
 "cells": [
  {
   "cell_type": "code",
   "execution_count": 1,
   "id": "fac92492-c11e-4869-909f-c4b8ebfd96db",
   "metadata": {},
   "outputs": [
    {
     "name": "stdout",
     "output_type": "stream",
     "text": [
      "Flight plans have been successfully converted to JSON.\n"
     ]
    }
   ],
   "source": [
    "import json\n",
    "\n",
    "# Given dictionary of points\n",
    "points = {\n",
    "    'DF101' : [32.841388164312576,-97.12687786271252],\n",
    "    'W1' : [32.83860373271118,-97.14923231929336],\n",
    "    'W2' : [32.88382669114571,-97.18665055461418],\n",
    "    'W3' : [32.97647810306036,-97.19463430289854],\n",
    "    'W4' : [33.023600992502885,-97.1525462602559],\n",
    "    'DF28' : [32.760828918493736,-97.09685211450186],\n",
    "    'DF30' : [33.041264092508925,-97.02919434106974],\n",
    "    'W5' : [32.97212759093153,-96.98431025017052],\n",
    "    'M2' : [32.874021307475545,-96.95928419917647],\n",
    "    'W9' : [32.776607806166055,-96.78545230657396],\n",
    "    'DF14' : [33.04161229861948,-96.88758249872177],\n",
    "    'W12' : [33.03885692336136,-96.7944576396299],\n",
    "    'DF25' : [33.02419968806647,-96.70296318050296],\n",
    "    'w43' : [32.85984340864708,-96.77041414094461],\n",
    "    'W10' : [32.89404570776544,-96.8490124389015],\n",
    "    'W11' : [33.022333068233934,-96.90818933469401],\n",
    "    'DF32' : [32.81383532221997,-96.7527611755818],\n",
    "    'M1' : [33.02599680923943,-96.97194867977608],\n",
    "    'M3' : [32.763664536229825,-96.9596748018077],\n",
    "    'M4' : [32.89403578171869,-96.75028833732827]\n",
    "}\n",
    "\n",
    "# Flight plans in the required format\n",
    "flight_plans = {\n",
    "    'Flight_plan_1': ['DF30', 'W4', 'W3', 'W2', 'W1', 'DF101'],\n",
    "    'Flight_plan_2': ['DF30', 'M1', 'W5', 'W2', 'M3', 'DF28'],\n",
    "    'Flight_plan_3': ['DF30', 'M1', 'W11', 'W10', 'M4', 'w43', 'DF32'],\n",
    "    'Flight_plan_4': ['DF14', 'M1', 'W5', 'M2', 'DF101'],\n",
    "    'Flight_plan_5': ['DF14', 'M1', 'W5', 'M2', 'M3', 'DF28'],\n",
    "    'Flight_plan_6': ['DF14', 'M1', 'W11', 'W10', 'M4', 'w43', 'DF32'],\n",
    "    'Flight_plan_7': ['DF14', 'W12', 'M4', 'w43', 'DF32'],\n",
    "    'Flight_plan_8': ['DF25', 'M4', 'w43', 'DF32']\n",
    "}\n",
    "\n",
    "# Convert the flight plans into the JSON format\n",
    "flight_plans_json = {}\n",
    "for plan, waypoints in flight_plans.items():\n",
    "    flight_plans_json[plan] = [points[wp] for wp in waypoints]\n",
    "\n",
    "# Write to a JSON file\n",
    "with open('flight_plans.json', 'w') as file:\n",
    "    json.dump(flight_plans_json, file, indent=4)\n",
    "\n",
    "print(\"Flight plans have been successfully converted to JSON.\")\n"
   ]
  },
  {
   "cell_type": "code",
   "execution_count": 7,
   "id": "63d1621f-55d3-4d0e-b8c8-008b89658a2f",
   "metadata": {},
   "outputs": [
    {
     "name": "stdout",
     "output_type": "stream",
     "text": [
      "Flight plans have been successfully converted to JSON.\n"
     ]
    }
   ],
   "source": [
    "import json\n",
    "\n",
    "# Given dictionary of points\n",
    "points = {\n",
    "    'N1' : [30,-90],\n",
    "    'N2' : [30,-89.8],\n",
    "    'N3' : [30,-89.6],\n",
    "    'N4' : [30.2,-90.1],\n",
    "    'N5' : [29.8,-90.1],\n",
    "    'M1' : [30.2,-89.8],\n",
    "    'M2' : [29.8,-89.8]\n",
    "}\n",
    "\n",
    "# Flight plans in the required format\n",
    "flight_plans = {\n",
    "    'Flight_plan_1': ['N4', 'N1', 'N2', 'N3'],\n",
    "    'Flight_plan_2': ['N5', 'N1', 'N2', 'N3'],\n",
    "    'Flight_plan_3': ['M1', 'N2', 'M2']\n",
    "}\n",
    "\n",
    "# Convert the flight plans into the JSON format\n",
    "flight_plans_json = {}\n",
    "for plan, waypoints in flight_plans.items():\n",
    "    flight_plans_json[plan] = [points[wp] for wp in waypoints]\n",
    "\n",
    "# Write to a JSON file\n",
    "with open('flight_plans.json', 'w') as file:\n",
    "    json.dump(flight_plans_json, file, indent=4)\n",
    "\n",
    "print(\"Flight plans have been successfully converted to JSON.\")\n"
   ]
  },
  {
   "cell_type": "code",
   "execution_count": 8,
   "id": "68805085-c16a-4d6e-be9e-64d8c1a17e13",
   "metadata": {},
   "outputs": [
    {
     "name": "stdout",
     "output_type": "stream",
     "text": [
      "Contents of the JSON file:\n",
      "{\n",
      "    \"Flight_plan_1\": [\n",
      "        [\n",
      "            30.2,\n",
      "            -90.1\n",
      "        ],\n",
      "        [\n",
      "            30,\n",
      "            -90\n",
      "        ],\n",
      "        [\n",
      "            30,\n",
      "            -89.8\n",
      "        ],\n",
      "        [\n",
      "            30,\n",
      "            -89.6\n",
      "        ]\n",
      "    ],\n",
      "    \"Flight_plan_2\": [\n",
      "        [\n",
      "            29.8,\n",
      "            -90.1\n",
      "        ],\n",
      "        [\n",
      "            30,\n",
      "            -90\n",
      "        ],\n",
      "        [\n",
      "            30,\n",
      "            -89.8\n",
      "        ],\n",
      "        [\n",
      "            30,\n",
      "            -89.6\n",
      "        ]\n",
      "    ],\n",
      "    \"Flight_plan_3\": [\n",
      "        [\n",
      "            30.2,\n",
      "            -89.8\n",
      "        ],\n",
      "        [\n",
      "            30,\n",
      "            -89.8\n",
      "        ],\n",
      "        [\n",
      "            29.8,\n",
      "            -89.8\n",
      "        ]\n",
      "    ]\n",
      "}\n"
     ]
    }
   ],
   "source": [
    "# Specify the name of the JSON file you want to read\n",
    "filename = 'flight_plans.json'\n",
    "\n",
    "# Read and load the JSON file\n",
    "try:\n",
    "    with open(filename, 'r') as file:\n",
    "        data = json.load(file)\n",
    "        print(\"Contents of the JSON file:\")\n",
    "        print(json.dumps(data, indent=4))\n",
    "except FileNotFoundError:\n",
    "    print(f\"File '{filename}' not found.\")\n",
    "except json.JSONDecodeError:\n",
    "    print(f\"Error decoding JSON from the file '{filename}'.\")"
   ]
  },
  {
   "cell_type": "code",
   "execution_count": 6,
   "id": "1636e41a-1327-4793-a139-2e09c21d3175",
   "metadata": {},
   "outputs": [
    {
     "data": {
      "text/plain": [
       "14.71287865005703"
      ]
     },
     "execution_count": 6,
     "metadata": {},
     "output_type": "execute_result"
    }
   ],
   "source": [
    "import math\n",
    "\n",
    "def haversine(lat1, lon1, lat2, lon2):\n",
    "    # Radius of the Earth in km\n",
    "    R = 6371.0\n",
    "\n",
    "    # Convert latitude and longitude from degrees to radians\n",
    "    lat1_rad = math.radians(lat1)\n",
    "    lon1_rad = math.radians(lon1)\n",
    "    lat2_rad = math.radians(lat2)\n",
    "    lon2_rad = math.radians(lon2)\n",
    "\n",
    "    # Difference in coordinates\n",
    "    delta_lat = lat2_rad - lat1_rad\n",
    "    delta_lon = lon2_rad - lon1_rad\n",
    "\n",
    "    # Haversine formula\n",
    "    a = math.sin(delta_lat / 2)**2 + math.cos(lat1_rad) * math.cos(lat2_rad) * math.sin(delta_lon / 2)**2\n",
    "    c = 2 * math.atan2(math.sqrt(a), math.sqrt(1 - a))\n",
    "    distance = R * c\n",
    "\n",
    "    return distance\n",
    "\n",
    "# Coordinates\n",
    "lat1, lon1 = 30.0, -90  # Initial waypoint\n",
    "lat2, lon2 = 29.9, -90.1  # Final waypoint\n",
    "\n",
    "# Calculate the distance\n",
    "distance_km = haversine(lat1, lon1, lat2, lon2)\n",
    "distance_km\n",
    "\n"
   ]
  },
  {
   "cell_type": "code",
   "execution_count": null,
   "id": "5a1b69c5-a067-4438-acd8-f96eabbc010e",
   "metadata": {},
   "outputs": [],
   "source": []
  }
 ],
 "metadata": {
  "kernelspec": {
   "display_name": "Python 3 (ipykernel)",
   "language": "python",
   "name": "python3"
  },
  "language_info": {
   "codemirror_mode": {
    "name": "ipython",
    "version": 3
   },
   "file_extension": ".py",
   "mimetype": "text/x-python",
   "name": "python",
   "nbconvert_exporter": "python",
   "pygments_lexer": "ipython3",
   "version": "3.11.5"
  }
 },
 "nbformat": 4,
 "nbformat_minor": 5
}
